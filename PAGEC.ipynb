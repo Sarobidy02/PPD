{
 "cells": [
  {
   "cell_type": "code",
   "execution_count": 1,
   "metadata": {
    "collapsed": true
   },
   "outputs": [],
   "source": [
    "import pandas as pd\n",
    "import numpy as np\n",
    "from scipy.io import loadmat\n",
    "from scipy.stats import ortho_group\n",
    "from scipy.optimize import minimize"
   ]
  },
  {
   "cell_type": "code",
   "execution_count": 2,
   "outputs": [],
   "source": [
    "data = loadmat('ComGA-master/data/Flickr/Flickr.mat')"
   ],
   "metadata": {
    "collapsed": false
   }
  },
  {
   "cell_type": "code",
   "execution_count": 3,
   "outputs": [
    {
     "data": {
      "text/plain": "{'__header__': b'MATLAB 5.0 MAT-file Platform: posix, Created on: Wed Sep 12 18:20:30 2018',\n '__version__': '1.0',\n '__globals__': [],\n 'Network': <7575x7575 sparse matrix of type '<class 'numpy.float64'>'\n \twith 482555 stored elements in Compressed Sparse Column format>,\n 'Label': array([[0],\n        [0],\n        [0],\n        ...,\n        [0],\n        [0],\n        [0]], dtype=uint8),\n 'Attributes': <7575x12047 sparse matrix of type '<class 'numpy.float64'>'\n \twith 225667 stored elements in Compressed Sparse Column format>,\n 'Class': array([[8],\n        [2],\n        [7],\n        ...,\n        [3],\n        [6],\n        [4]], dtype=uint8)}"
     },
     "execution_count": 3,
     "metadata": {},
     "output_type": "execute_result"
    }
   ],
   "source": [
    "data"
   ],
   "metadata": {
    "collapsed": false
   }
  },
  {
   "cell_type": "code",
   "execution_count": 3,
   "outputs": [],
   "source": [
    "A = data['Network'].toarray()\n",
    "n = A.shape[0]\n",
    "X = data['Attributes'].toarray()\n",
    "d =X.shape[1]\n",
    "V = np.array([i for i in range(n)])"
   ],
   "metadata": {
    "collapsed": false
   }
  },
  {
   "cell_type": "code",
   "execution_count": 4,
   "outputs": [],
   "source": [
    "degree = np.zeros(n) # initialize list to hold values of degree\n",
    "\n",
    "# calculate the sums along rows and sum along columns\n",
    "colsum = A.sum(axis=0)\n",
    "rowsum = A.sum(axis=1)\n",
    "\n",
    "# loop through matrix and add up all degree connections\n",
    "for j in range(n):\n",
    "    degree[j] = colsum[j] + rowsum[j]\n",
    "\n",
    "# get the diagonal entries to correct the for loop oversumming\n",
    "B= A.diagonal()\n",
    "b_flat = B.flat\n",
    "diagMat = list(b_flat)\n",
    "\n",
    "\n",
    "D = np.diag(degree - diagMat)"
   ],
   "metadata": {
    "collapsed": false
   }
  },
  {
   "cell_type": "code",
   "execution_count": 5,
   "outputs": [],
   "source": [
    "W = np.matmul(np.linalg.inv(D), A)"
   ],
   "metadata": {
    "collapsed": false
   }
  },
  {
   "cell_type": "code",
   "execution_count": 6,
   "outputs": [],
   "source": [
    "# Dissimilarity measure used is 0 if same class, 1 otherwise\n",
    "W_x = np.zeros((n, n))\n",
    "Classes = data['Class']\n",
    "for i in range(n):\n",
    "    for j in range(i, n):\n",
    "        if Classes[i] != Classes[j]:\n",
    "            W_x[i, j] = 1\n",
    "            W_x[j, i] = 1"
   ],
   "metadata": {
    "collapsed": false
   }
  },
  {
   "cell_type": "code",
   "execution_count": 7,
   "outputs": [],
   "source": [
    "S = W + W_x"
   ],
   "metadata": {
    "collapsed": false
   }
  },
  {
   "cell_type": "code",
   "execution_count": 8,
   "outputs": [],
   "source": [
    "p = 8"
   ],
   "metadata": {
    "collapsed": false
   }
  },
  {
   "cell_type": "code",
   "execution_count": 9,
   "outputs": [],
   "source": [
    "M = np.matmul(np.linalg.matrix_power(W, p), X)"
   ],
   "metadata": {
    "collapsed": false
   }
  },
  {
   "cell_type": "code",
   "execution_count": 10,
   "outputs": [],
   "source": [
    "k = 2\n",
    "lambda_ = 1"
   ],
   "metadata": {
    "collapsed": false
   }
  },
  {
   "cell_type": "code",
   "execution_count": 11,
   "outputs": [],
   "source": [
    "# Initializations\n",
    "# B_nxk\n",
    "B = np.delete(ortho_group.rvs(n), [i for i in range(k, n)], axis=1)\n",
    "# Q_dxk\n",
    "Q = np.delete(ortho_group.rvs(d), [i for i in range(k, d)], axis=1)\n",
    "# Z_kxk\n",
    "Z = ortho_group.rvs(k)"
   ],
   "metadata": {
    "collapsed": false
   }
  },
  {
   "cell_type": "code",
   "execution_count": 12,
   "outputs": [],
   "source": [
    "def calcul_G(S, B, n=n, k=k):\n",
    "    G = np.zeros((n, k))\n",
    "    B_swirl = np.matmul(S, B)\n",
    "    for i in range(n):\n",
    "        norm_diff = np.zeros(k)\n",
    "        for k_dash in range(k):\n",
    "            norm_diff[k_dash] = np.linalg.norm( B_swirl[i] - Z[k_dash])\n",
    "        for k_iter in range(k):\n",
    "            if k_iter == np.argmin(norm_diff):\n",
    "                G[i][k_iter] = 1\n",
    "    return G"
   ],
   "metadata": {
    "collapsed": false
   }
  },
  {
   "cell_type": "code",
   "execution_count": 13,
   "outputs": [],
   "source": [
    "def calcul_B(M, S, Q, G, Z):\n",
    "    matrix_to_decomp = np.matmul(M, Q) + lambda_* np.matmul(S, np.matmul(G, Z))\n",
    "    U_hat, Sigma_hat, V_hat_T = np.linalg.svd(matrix_to_decomp, full_matrices=False)\n",
    "    return np.matmul(U_hat, V_hat_T)\n"
   ],
   "metadata": {
    "collapsed": false
   }
  },
  {
   "cell_type": "code",
   "execution_count": 14,
   "outputs": [],
   "source": [
    "def calcul_Q(M, B):\n",
    "    return np.matmul(np.transpose(M), B)\n"
   ],
   "metadata": {
    "collapsed": false
   }
  },
  {
   "cell_type": "code",
   "execution_count": 15,
   "outputs": [],
   "source": [
    "def calcul_Z(G, S, B):\n",
    "    matrix_to_decomp_Z = np.matmul(np.transpose(G), np.matmul(S, B))\n",
    "    U, Sigma, V_T = np.linalg.svd(matrix_to_decomp_Z, full_matrices=False)\n",
    "    return np.matmul(U, V_T)"
   ],
   "metadata": {
    "collapsed": false
   }
  },
  {
   "cell_type": "code",
   "execution_count": 16,
   "outputs": [],
   "source": [
    "def check_convergence(A, A_new, tol):\n",
    "    return np.linalg.norm(A - A_new) < tol"
   ],
   "metadata": {
    "collapsed": false
   }
  },
  {
   "cell_type": "code",
   "execution_count": 19,
   "outputs": [],
   "source": [
    "def PAGEC(M, S, X, k = k, p = p, lambda_ = lambda_, tol=0.5):\n",
    "    # Initializations\n",
    "    # B_nxk\n",
    "    B = np.delete(ortho_group.rvs(n), [i for i in range(k, n)], axis=1)\n",
    "    # Q_dxk\n",
    "    Q = np.delete(ortho_group.rvs(d), [i for i in range(k, d)], axis=1)\n",
    "    # Z_kxk\n",
    "    Z = ortho_group.rvs(k)\n",
    "\n",
    "    converged = False\n",
    "\n",
    "    G = calcul_G(S, B)\n",
    "    while not converged:\n",
    "        G_new = calcul_G(S, B)\n",
    "        B_new = calcul_B(M, S, Q, G_new, Z)\n",
    "        Q_new = calcul_Q(M, B)\n",
    "        Z_new = calcul_Z(G_new, S, B_new)\n",
    "        converged = all([check_convergence(G, G_new, tol),\n",
    "                     check_convergence(B, B_new, tol),\n",
    "                     check_convergence(Q, Q_new, tol),\n",
    "                     check_convergence(Z, Z_new, tol)])\n",
    "\n",
    "\n",
    "        G = G_new\n",
    "        B = B_new\n",
    "        Q = Q_new\n",
    "        Z = Z_new\n",
    "\n",
    "    return G, B, Q, Z\n"
   ],
   "metadata": {
    "collapsed": false
   }
  },
  {
   "cell_type": "code",
   "execution_count": null,
   "outputs": [],
   "source": [
    "G, B, Q, Z = PAGEC(M, S, X, k, p, lambda_)"
   ],
   "metadata": {
    "collapsed": false,
    "pycharm": {
     "is_executing": true
    }
   }
  }
 ],
 "metadata": {
  "kernelspec": {
   "display_name": "Python 3",
   "language": "python",
   "name": "python3"
  },
  "language_info": {
   "codemirror_mode": {
    "name": "ipython",
    "version": 2
   },
   "file_extension": ".py",
   "mimetype": "text/x-python",
   "name": "python",
   "nbconvert_exporter": "python",
   "pygments_lexer": "ipython2",
   "version": "2.7.6"
  }
 },
 "nbformat": 4,
 "nbformat_minor": 0
}
